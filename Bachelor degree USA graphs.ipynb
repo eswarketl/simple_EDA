{
 "cells": [
  {
   "cell_type": "markdown",
   "metadata": {},
   "source": [
    "# Bachelor degree USA graphs"
   ]
  },
  {
   "cell_type": "markdown",
   "metadata": {},
   "source": [
    "importing python libraries"
   ]
  },
  {
   "cell_type": "code",
   "execution_count": 169,
   "metadata": {
    "collapsed": true
   },
   "outputs": [],
   "source": [
    "import numpy as np\n",
    "import matplotlib.pyplot as plt\n",
    "import pandas as pd"
   ]
  },
  {
   "cell_type": "markdown",
   "metadata": {},
   "source": [
    "Reading data from excel dataset"
   ]
  },
  {
   "cell_type": "code",
   "execution_count": 170,
   "metadata": {},
   "outputs": [
    {
     "data": {
      "text/html": [
       "<div>\n",
       "<style>\n",
       "    .dataframe thead tr:only-child th {\n",
       "        text-align: right;\n",
       "    }\n",
       "\n",
       "    .dataframe thead th {\n",
       "        text-align: left;\n",
       "    }\n",
       "\n",
       "    .dataframe tbody tr th {\n",
       "        vertical-align: top;\n",
       "    }\n",
       "</style>\n",
       "<table border=\"1\" class=\"dataframe\">\n",
       "  <thead>\n",
       "    <tr style=\"text-align: right;\">\n",
       "      <th></th>\n",
       "      <th>Year</th>\n",
       "      <th>Computer Science</th>\n",
       "      <th>Math and Statistics</th>\n",
       "      <th>Physical Sciences</th>\n",
       "    </tr>\n",
       "  </thead>\n",
       "  <tbody>\n",
       "    <tr>\n",
       "      <th>2</th>\n",
       "      <td>1972</td>\n",
       "      <td>14.9</td>\n",
       "      <td>40.2</td>\n",
       "      <td>14.8</td>\n",
       "    </tr>\n",
       "    <tr>\n",
       "      <th>34</th>\n",
       "      <td>2004</td>\n",
       "      <td>22.2</td>\n",
       "      <td>44.7</td>\n",
       "      <td>42.1</td>\n",
       "    </tr>\n",
       "    <tr>\n",
       "      <th>40</th>\n",
       "      <td>2010</td>\n",
       "      <td>17.6</td>\n",
       "      <td>43.1</td>\n",
       "      <td>40.2</td>\n",
       "    </tr>\n",
       "    <tr>\n",
       "      <th>29</th>\n",
       "      <td>1999</td>\n",
       "      <td>28.1</td>\n",
       "      <td>47.8</td>\n",
       "      <td>40.2</td>\n",
       "    </tr>\n",
       "    <tr>\n",
       "      <th>9</th>\n",
       "      <td>1979</td>\n",
       "      <td>30.2</td>\n",
       "      <td>42.3</td>\n",
       "      <td>23.7</td>\n",
       "    </tr>\n",
       "    <tr>\n",
       "      <th>30</th>\n",
       "      <td>2000</td>\n",
       "      <td>27.7</td>\n",
       "      <td>48.2</td>\n",
       "      <td>41.0</td>\n",
       "    </tr>\n",
       "    <tr>\n",
       "      <th>18</th>\n",
       "      <td>1988</td>\n",
       "      <td>30.8</td>\n",
       "      <td>46.2</td>\n",
       "      <td>29.7</td>\n",
       "    </tr>\n",
       "    <tr>\n",
       "      <th>11</th>\n",
       "      <td>1981</td>\n",
       "      <td>34.8</td>\n",
       "      <td>43.2</td>\n",
       "      <td>25.7</td>\n",
       "    </tr>\n",
       "    <tr>\n",
       "      <th>1</th>\n",
       "      <td>1971</td>\n",
       "      <td>13.6</td>\n",
       "      <td>39.0</td>\n",
       "      <td>14.9</td>\n",
       "    </tr>\n",
       "    <tr>\n",
       "      <th>14</th>\n",
       "      <td>1984</td>\n",
       "      <td>36.8</td>\n",
       "      <td>46.2</td>\n",
       "      <td>28.0</td>\n",
       "    </tr>\n",
       "  </tbody>\n",
       "</table>\n",
       "</div>"
      ],
      "text/plain": [
       "    Year  Computer Science  Math and Statistics  Physical Sciences\n",
       "2   1972              14.9                 40.2               14.8\n",
       "34  2004              22.2                 44.7               42.1\n",
       "40  2010              17.6                 43.1               40.2\n",
       "29  1999              28.1                 47.8               40.2\n",
       "9   1979              30.2                 42.3               23.7\n",
       "30  2000              27.7                 48.2               41.0\n",
       "18  1988              30.8                 46.2               29.7\n",
       "11  1981              34.8                 43.2               25.7\n",
       "1   1971              13.6                 39.0               14.9\n",
       "14  1984              36.8                 46.2               28.0"
      ]
     },
     "execution_count": 170,
     "metadata": {},
     "output_type": "execute_result"
    }
   ],
   "source": [
    "datafile= pd.read_excel('J:\\Datacamp\\Datasets\\Bachelor degree USA.xlsx', \n",
    "                        usecols=['Year','Computer Science','Math and Statistics','Physical Sciences'], index ='Year')\n",
    "\n",
    "datafile.sample(10)"
   ]
  },
  {
   "cell_type": "markdown",
   "metadata": {},
   "source": [
    "Plotting diagram for Computer Science course"
   ]
  },
  {
   "cell_type": "code",
   "execution_count": 171,
   "metadata": {},
   "outputs": [
    {
     "data": {
      "text/plain": [
       "[1990, 2011, 10, 30]"
      ]
     },
     "execution_count": 171,
     "metadata": {},
     "output_type": "execute_result"
    }
   ],
   "source": [
    "plt.subplot(2,2,1)\n",
    "plt.plot(datafile['Year'], datafile['Computer Science'], color='blue')\n",
    "plt.xlabel('Academic Year')\n",
    "plt.ylabel('Grades secured')\n",
    "plt.title('Students performance in Computer Science')\n",
    "plt.grid(True)\n",
    "plt.axis([1990,2011,10,30])\n"
   ]
  },
  {
   "cell_type": "markdown",
   "metadata": {},
   "source": [
    "Plotting graph for Math and Statistics course"
   ]
  },
  {
   "cell_type": "code",
   "execution_count": 172,
   "metadata": {},
   "outputs": [
    {
     "data": {
      "text/plain": [
       "[1980, 2011, 30, 50]"
      ]
     },
     "execution_count": 172,
     "metadata": {},
     "output_type": "execute_result"
    }
   ],
   "source": [
    "plt.subplot(2,2,2)\n",
    "plt.plot(datafile['Year'], datafile['Math and Statistics'], color='green')\n",
    "plt.xlabel('Academic Year')\n",
    "plt.ylabel('Grades secured')\n",
    "plt.title('Students performance in Math and Statistics')\n",
    "plt.grid(True)\n",
    "plt.axis([1980,2011,30,50])\n",
    "        "
   ]
  },
  {
   "cell_type": "markdown",
   "metadata": {},
   "source": [
    "Plotting graph for Physical Sciences"
   ]
  },
  {
   "cell_type": "code",
   "execution_count": 173,
   "metadata": {},
   "outputs": [],
   "source": [
    "plt.subplot(2,2,3)\n",
    "plt.plot(datafile['Year'], datafile['Physical Sciences'], color='yellow')\n",
    "plt.xlabel('Academic Year')\n",
    "plt.ylabel('Grades secured')\n",
    "plt.title('Students performance in Physical Sciences')\n",
    "plt.grid(True)\n",
    "plt.axis([1970,2011,15,50])\n",
    "\n",
    "plt.tight_layout(pad=1.0, w_pad=1.0, h_pad=1.0)"
   ]
  },
  {
   "cell_type": "markdown",
   "metadata": {},
   "source": [
    "Visualizing all the plots"
   ]
  },
  {
   "cell_type": "code",
   "execution_count": 174,
   "metadata": {},
   "outputs": [
    {
     "data": {
      "image/png": "[encoded data removed]",
      "text/plain": [
       "<matplotlib.figure.Figure at 0xcccf160>"
      ]
     },
     "metadata": {},
     "output_type": "display_data"
    }
   ],
   "source": [
    "plt.show()"
   ]
  },
  {
   "cell_type": "markdown",
   "metadata": {},
   "source": [
    "graphs plotted to three different subjects viz 'Computer Science', 'Maths and Statistics' and 'Physical Sciences'\n",
    "for Bachelor degree students in USA"
   ]
  }
 ],
 "metadata": {
  "kernelspec": {
   "display_name": "Python 2",
   "language": "python",
   "name": "python2"
  },
  "language_info": {
   "codemirror_mode": {
    "name": "ipython",
    "version": 2
   },
   "file_extension": ".py",
   "mimetype": "text/x-python",
   "name": "python",
   "nbconvert_exporter": "python",
   "pygments_lexer": "ipython2",
   "version": "2.7.14"
  }
 },
 "nbformat": 4,
 "nbformat_minor": 2
}
